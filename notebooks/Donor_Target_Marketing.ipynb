{
 "cells": [
  {
   "cell_type": "code",
   "execution_count": 1,
   "metadata": {},
   "outputs": [],
   "source": [
    "# Using python and machine learning, I used data set from a donor raw data to predict\n",
    "# which of the prospective donors will contribute in a new camoange.\n",
    "# This is thesame principle used for \"recomendation engines\" in big tech and sales companies.\n",
    "# You use one set of data to predict the out come of a different set of data."
   ]
  },
  {
   "cell_type": "code",
   "execution_count": 1,
   "metadata": {},
   "outputs": [],
   "source": [
    "import pandas as pd\n",
    "import numpy as np # for math computation, EFFICIENT data prep\n",
    "import matplotlib.pyplot as plt # for plotting\n",
    "import seaborn as sns # slightly better visuals than matplot"
   ]
  },
  {
   "cell_type": "code",
   "execution_count": null,
   "metadata": {},
   "outputs": [],
   "source": [
    "# first, we import both files but we would be looking at the raw data file first"
   ]
  },
  {
   "cell_type": "code",
   "execution_count": 2,
   "metadata": {},
   "outputs": [],
   "source": [
    "rawData = pd.read_csv(\"Donor Raw Data_ML with Python.csv\")\n",
    "prosData =pd.read_csv(\"Prospective Donor_ML with Python.csv\")"
   ]
  },
  {
   "cell_type": "code",
   "execution_count": 16,
   "metadata": {},
   "outputs": [],
   "source": [
    "%matplotlib inline"
   ]
  },
  {
   "cell_type": "markdown",
   "metadata": {},
   "source": [
    "#### Quick fire EDA"
   ]
  },
  {
   "cell_type": "code",
   "execution_count": null,
   "metadata": {},
   "outputs": [],
   "source": [
    "# this would be a classification problem I hope"
   ]
  },
  {
   "cell_type": "code",
   "execution_count": 3,
   "metadata": {
    "scrolled": true
   },
   "outputs": [
    {
     "data": {
      "text/html": [
       "<div>\n",
       "<style scoped>\n",
       "    .dataframe tbody tr th:only-of-type {\n",
       "        vertical-align: middle;\n",
       "    }\n",
       "\n",
       "    .dataframe tbody tr th {\n",
       "        vertical-align: top;\n",
       "    }\n",
       "\n",
       "    .dataframe thead th {\n",
       "        text-align: right;\n",
       "    }\n",
       "</style>\n",
       "<table border=\"1\" class=\"dataframe\">\n",
       "  <thead>\n",
       "    <tr style=\"text-align: right;\">\n",
       "      <th></th>\n",
       "      <th>TARGET_B</th>\n",
       "      <th>TARGET_D</th>\n",
       "      <th>CONTROL_NUMBER</th>\n",
       "      <th>MONTHS_SINCE_ORIGIN</th>\n",
       "      <th>DONOR_AGE</th>\n",
       "      <th>IN_HOUSE</th>\n",
       "      <th>URBANICITY</th>\n",
       "      <th>SES</th>\n",
       "      <th>CLUSTER_CODE</th>\n",
       "      <th>HOME_OWNER</th>\n",
       "      <th>...</th>\n",
       "      <th>LIFETIME_GIFT_RANGE</th>\n",
       "      <th>LIFETIME_MAX_GIFT_AMT</th>\n",
       "      <th>LIFETIME_MIN_GIFT_AMT</th>\n",
       "      <th>LAST_GIFT_AMT</th>\n",
       "      <th>CARD_PROM_12</th>\n",
       "      <th>NUMBER_PROM_12</th>\n",
       "      <th>MONTHS_SINCE_LAST_GIFT</th>\n",
       "      <th>MONTHS_SINCE_FIRST_GIFT</th>\n",
       "      <th>FILE_AVG_GIFT</th>\n",
       "      <th>FILE_CARD_GIFT</th>\n",
       "    </tr>\n",
       "  </thead>\n",
       "  <tbody>\n",
       "    <tr>\n",
       "      <th>0</th>\n",
       "      <td>0</td>\n",
       "      <td>NaN</td>\n",
       "      <td>5</td>\n",
       "      <td>101</td>\n",
       "      <td>87.0</td>\n",
       "      <td>0</td>\n",
       "      <td>?</td>\n",
       "      <td>?</td>\n",
       "      <td>.</td>\n",
       "      <td>H</td>\n",
       "      <td>...</td>\n",
       "      <td>15.0</td>\n",
       "      <td>20.0</td>\n",
       "      <td>5.0</td>\n",
       "      <td>15.0</td>\n",
       "      <td>5</td>\n",
       "      <td>12</td>\n",
       "      <td>26</td>\n",
       "      <td>92</td>\n",
       "      <td>8.49</td>\n",
       "      <td>7</td>\n",
       "    </tr>\n",
       "    <tr>\n",
       "      <th>1</th>\n",
       "      <td>1</td>\n",
       "      <td>10.0</td>\n",
       "      <td>12</td>\n",
       "      <td>137</td>\n",
       "      <td>79.0</td>\n",
       "      <td>0</td>\n",
       "      <td>R</td>\n",
       "      <td>2</td>\n",
       "      <td>45</td>\n",
       "      <td>H</td>\n",
       "      <td>...</td>\n",
       "      <td>20.0</td>\n",
       "      <td>25.0</td>\n",
       "      <td>5.0</td>\n",
       "      <td>17.0</td>\n",
       "      <td>7</td>\n",
       "      <td>21</td>\n",
       "      <td>7</td>\n",
       "      <td>122</td>\n",
       "      <td>14.72</td>\n",
       "      <td>12</td>\n",
       "    </tr>\n",
       "    <tr>\n",
       "      <th>2</th>\n",
       "      <td>0</td>\n",
       "      <td>NaN</td>\n",
       "      <td>37</td>\n",
       "      <td>113</td>\n",
       "      <td>75.0</td>\n",
       "      <td>0</td>\n",
       "      <td>S</td>\n",
       "      <td>1</td>\n",
       "      <td>11</td>\n",
       "      <td>H</td>\n",
       "      <td>...</td>\n",
       "      <td>23.0</td>\n",
       "      <td>28.0</td>\n",
       "      <td>5.0</td>\n",
       "      <td>19.0</td>\n",
       "      <td>11</td>\n",
       "      <td>32</td>\n",
       "      <td>6</td>\n",
       "      <td>105</td>\n",
       "      <td>16.75</td>\n",
       "      <td>16</td>\n",
       "    </tr>\n",
       "    <tr>\n",
       "      <th>3</th>\n",
       "      <td>0</td>\n",
       "      <td>NaN</td>\n",
       "      <td>38</td>\n",
       "      <td>92</td>\n",
       "      <td>NaN</td>\n",
       "      <td>0</td>\n",
       "      <td>U</td>\n",
       "      <td>2</td>\n",
       "      <td>04</td>\n",
       "      <td>H</td>\n",
       "      <td>...</td>\n",
       "      <td>14.0</td>\n",
       "      <td>17.0</td>\n",
       "      <td>3.0</td>\n",
       "      <td>15.0</td>\n",
       "      <td>11</td>\n",
       "      <td>33</td>\n",
       "      <td>6</td>\n",
       "      <td>92</td>\n",
       "      <td>11.76</td>\n",
       "      <td>12</td>\n",
       "    </tr>\n",
       "    <tr>\n",
       "      <th>4</th>\n",
       "      <td>0</td>\n",
       "      <td>NaN</td>\n",
       "      <td>41</td>\n",
       "      <td>101</td>\n",
       "      <td>74.0</td>\n",
       "      <td>0</td>\n",
       "      <td>R</td>\n",
       "      <td>2</td>\n",
       "      <td>49</td>\n",
       "      <td>U</td>\n",
       "      <td>...</td>\n",
       "      <td>20.0</td>\n",
       "      <td>25.0</td>\n",
       "      <td>5.0</td>\n",
       "      <td>25.0</td>\n",
       "      <td>6</td>\n",
       "      <td>19</td>\n",
       "      <td>18</td>\n",
       "      <td>92</td>\n",
       "      <td>8.83</td>\n",
       "      <td>3</td>\n",
       "    </tr>\n",
       "  </tbody>\n",
       "</table>\n",
       "<p>5 rows × 50 columns</p>\n",
       "</div>"
      ],
      "text/plain": [
       "   TARGET_B  TARGET_D  CONTROL_NUMBER  MONTHS_SINCE_ORIGIN  DONOR_AGE  \\\n",
       "0         0       NaN               5                  101       87.0   \n",
       "1         1      10.0              12                  137       79.0   \n",
       "2         0       NaN              37                  113       75.0   \n",
       "3         0       NaN              38                   92        NaN   \n",
       "4         0       NaN              41                  101       74.0   \n",
       "\n",
       "   IN_HOUSE URBANICITY SES CLUSTER_CODE HOME_OWNER  ... LIFETIME_GIFT_RANGE  \\\n",
       "0         0          ?   ?            .          H  ...                15.0   \n",
       "1         0          R   2           45          H  ...                20.0   \n",
       "2         0          S   1           11          H  ...                23.0   \n",
       "3         0          U   2           04          H  ...                14.0   \n",
       "4         0          R   2           49          U  ...                20.0   \n",
       "\n",
       "   LIFETIME_MAX_GIFT_AMT  LIFETIME_MIN_GIFT_AMT LAST_GIFT_AMT  CARD_PROM_12  \\\n",
       "0                   20.0                    5.0          15.0             5   \n",
       "1                   25.0                    5.0          17.0             7   \n",
       "2                   28.0                    5.0          19.0            11   \n",
       "3                   17.0                    3.0          15.0            11   \n",
       "4                   25.0                    5.0          25.0             6   \n",
       "\n",
       "   NUMBER_PROM_12  MONTHS_SINCE_LAST_GIFT  MONTHS_SINCE_FIRST_GIFT  \\\n",
       "0              12                      26                       92   \n",
       "1              21                       7                      122   \n",
       "2              32                       6                      105   \n",
       "3              33                       6                       92   \n",
       "4              19                      18                       92   \n",
       "\n",
       "   FILE_AVG_GIFT  FILE_CARD_GIFT  \n",
       "0           8.49               7  \n",
       "1          14.72              12  \n",
       "2          16.75              16  \n",
       "3          11.76              12  \n",
       "4           8.83               3  \n",
       "\n",
       "[5 rows x 50 columns]"
      ]
     },
     "execution_count": 3,
     "metadata": {},
     "output_type": "execute_result"
    }
   ],
   "source": [
    "rawData.head()"
   ]
  },
  {
   "cell_type": "code",
   "execution_count": 4,
   "metadata": {},
   "outputs": [
    {
     "data": {
      "text/plain": [
       "(19372, 50)"
      ]
     },
     "execution_count": 4,
     "metadata": {},
     "output_type": "execute_result"
    }
   ],
   "source": [
    "rawData.shape"
   ]
  },
  {
   "cell_type": "code",
   "execution_count": 17,
   "metadata": {},
   "outputs": [
    {
     "data": {
      "image/png": "[encoded data removed]",
      "text/plain": [
       "<Figure size 1008x288 with 1 Axes>"
      ]
     },
     "metadata": {
      "needs_background": "light"
     },
     "output_type": "display_data"
    },
    {
     "data": {
      "image/png": "[encoded data removed]",
      "text/plain": [
       "<Figure size 1008x288 with 1 Axes>"
      ]
     },
     "metadata": {
      "needs_background": "light"
     },
     "output_type": "display_data"
    },
    {
     "data": {
      "image/png": "[encoded data removed]",
      "text/plain": [
       "<Figure size 1008x288 with 1 Axes>"
      ]
     },
     "metadata": {
      "needs_background": "light"
     },
     "output_type": "display_data"
    },
    {
     "data": {
      "image/png": "[encoded data removed]",
      "text/plain": [
       "<Figure size 1008x288 with 1 Axes>"
      ]
     },
     "metadata": {
      "needs_background": "light"
     },
     "output_type": "display_data"
    },
    {
     "data": {
      "image/png": "[encoded data removed]",
      "text/plain": [
       "<Figure size 1008x288 with 1 Axes>"
      ]
     },
     "metadata": {
      "needs_background": "light"
     },
     "output_type": "display_data"
    }
   ],
   "source": [
    "catigorical_variables = [\"IN_HOUSE\", \"HOME_OWNER\", \"DONOR_GENDER\", \"URBANICITY\", \"DONOR_AGE\"]\n",
    "for col in catigorical_variables:\n",
    "    plt.figure(figsize=(14,4))\n",
    "    sns.barplot(rawData[col].value_counts().values, rawData[col].value_counts().index)\n",
    "    plt.title(col)\n",
    "    plt.tight_layout()"
   ]
  },
  {
   "cell_type": "code",
   "execution_count": 3,
   "metadata": {},
   "outputs": [
    {
     "data": {
      "text/plain": [
       "TARGET_B                           0\n",
       "TARGET_D                       14529\n",
       "CONTROL_NUMBER                     0\n",
       "MONTHS_SINCE_ORIGIN                0\n",
       "DONOR_AGE                       4795\n",
       "IN_HOUSE                           0\n",
       "URBANICITY                         0\n",
       "SES                                0\n",
       "CLUSTER_CODE                       0\n",
       "HOME_OWNER                         0\n",
       "DONOR_GENDER                       0\n",
       "INCOME_GROUP                    4392\n",
       "PUBLISHED_PHONE                    0\n",
       "OVERLAY_SOURCE                     0\n",
       "MOR_HIT_RATE                       0\n",
       "WEALTH_RATING                   8810\n",
       "MEDIAN_HOME_VALUE                  0\n",
       "MEDIAN_HOUSEHOLD_INCOME            0\n",
       "PCT_OWNER_OCCUPIED                 0\n",
       "PER_CAPITA_INCOME                  0\n",
       "PCT_ATTRIBUTE1                     0\n",
       "PCT_ATTRIBUTE2                     0\n",
       "PCT_ATTRIBUTE3                     0\n",
       "PCT_ATTRIBUTE4                     0\n",
       "PEP_STAR                           0\n",
       "RECENT_STAR_STATUS                 0\n",
       "RECENCY_STATUS_96NK                0\n",
       "FREQUENCY_STATUS_97NK              0\n",
       "RECENT_RESPONSE_PROP               0\n",
       "RECENT_AVG_GIFT_AMT                0\n",
       "RECENT_CARD_RESPONSE_PROP          0\n",
       "RECENT_AVG_CARD_GIFT_AMT           0\n",
       "RECENT_RESPONSE_COUNT              0\n",
       "RECENT_CARD_RESPONSE_COUNT         0\n",
       "MONTHS_SINCE_LAST_PROM_RESP      246\n",
       "LIFETIME_CARD_PROM                 0\n",
       "LIFETIME_PROM                      0\n",
       "LIFETIME_GIFT_AMOUNT               0\n",
       "LIFETIME_GIFT_COUNT                0\n",
       "LIFETIME_AVG_GIFT_AMT              0\n",
       "LIFETIME_GIFT_RANGE                0\n",
       "LIFETIME_MAX_GIFT_AMT              0\n",
       "LIFETIME_MIN_GIFT_AMT              0\n",
       "LAST_GIFT_AMT                      0\n",
       "CARD_PROM_12                       0\n",
       "NUMBER_PROM_12                     0\n",
       "MONTHS_SINCE_LAST_GIFT             0\n",
       "MONTHS_SINCE_FIRST_GIFT            0\n",
       "FILE_AVG_GIFT                      0\n",
       "FILE_CARD_GIFT                     0\n",
       "dtype: int64"
      ]
     },
     "execution_count": 3,
     "metadata": {},
     "output_type": "execute_result"
    }
   ],
   "source": [
    "rawData.isnull().sum() \n",
    "# we see a lot of missing values and these are too numerous to be deleted\n",
    "#without affecting the overall data. These would have to be replaced."
   ]
  },
  {
   "cell_type": "code",
   "execution_count": 4,
   "metadata": {},
   "outputs": [
    {
     "data": {
      "text/html": [
       "<div>\n",
       "<style scoped>\n",
       "    .dataframe tbody tr th:only-of-type {\n",
       "        vertical-align: middle;\n",
       "    }\n",
       "\n",
       "    .dataframe tbody tr th {\n",
       "        vertical-align: top;\n",
       "    }\n",
       "\n",
       "    .dataframe thead th {\n",
       "        text-align: right;\n",
       "    }\n",
       "</style>\n",
       "<table border=\"1\" class=\"dataframe\">\n",
       "  <thead>\n",
       "    <tr style=\"text-align: right;\">\n",
       "      <th></th>\n",
       "      <th>TARGET_B</th>\n",
       "      <th>TARGET_D</th>\n",
       "      <th>CONTROL_NUMBER</th>\n",
       "      <th>MONTHS_SINCE_ORIGIN</th>\n",
       "      <th>DONOR_AGE</th>\n",
       "      <th>IN_HOUSE</th>\n",
       "      <th>INCOME_GROUP</th>\n",
       "      <th>PUBLISHED_PHONE</th>\n",
       "      <th>MOR_HIT_RATE</th>\n",
       "      <th>WEALTH_RATING</th>\n",
       "      <th>...</th>\n",
       "      <th>LIFETIME_GIFT_RANGE</th>\n",
       "      <th>LIFETIME_MAX_GIFT_AMT</th>\n",
       "      <th>LIFETIME_MIN_GIFT_AMT</th>\n",
       "      <th>LAST_GIFT_AMT</th>\n",
       "      <th>CARD_PROM_12</th>\n",
       "      <th>NUMBER_PROM_12</th>\n",
       "      <th>MONTHS_SINCE_LAST_GIFT</th>\n",
       "      <th>MONTHS_SINCE_FIRST_GIFT</th>\n",
       "      <th>FILE_AVG_GIFT</th>\n",
       "      <th>FILE_CARD_GIFT</th>\n",
       "    </tr>\n",
       "  </thead>\n",
       "  <tbody>\n",
       "    <tr>\n",
       "      <th>count</th>\n",
       "      <td>19372.000000</td>\n",
       "      <td>4843.000000</td>\n",
       "      <td>19372.000000</td>\n",
       "      <td>19372.000000</td>\n",
       "      <td>14577.000000</td>\n",
       "      <td>19372.000000</td>\n",
       "      <td>14980.000000</td>\n",
       "      <td>19372.000000</td>\n",
       "      <td>19372.000000</td>\n",
       "      <td>10562.000000</td>\n",
       "      <td>...</td>\n",
       "      <td>19372.000000</td>\n",
       "      <td>19372.000000</td>\n",
       "      <td>19372.000000</td>\n",
       "      <td>19372.000000</td>\n",
       "      <td>19372.000000</td>\n",
       "      <td>19372.000000</td>\n",
       "      <td>19372.000000</td>\n",
       "      <td>19372.000000</td>\n",
       "      <td>19372.000000</td>\n",
       "      <td>19372.000000</td>\n",
       "    </tr>\n",
       "    <tr>\n",
       "      <th>mean</th>\n",
       "      <td>0.250000</td>\n",
       "      <td>15.624344</td>\n",
       "      <td>96546.225377</td>\n",
       "      <td>73.409973</td>\n",
       "      <td>58.919051</td>\n",
       "      <td>0.073198</td>\n",
       "      <td>3.907543</td>\n",
       "      <td>0.497729</td>\n",
       "      <td>3.361656</td>\n",
       "      <td>5.005397</td>\n",
       "      <td>...</td>\n",
       "      <td>11.587876</td>\n",
       "      <td>19.208808</td>\n",
       "      <td>7.620932</td>\n",
       "      <td>16.584199</td>\n",
       "      <td>5.367128</td>\n",
       "      <td>12.901869</td>\n",
       "      <td>18.191152</td>\n",
       "      <td>69.482088</td>\n",
       "      <td>12.858338</td>\n",
       "      <td>5.273591</td>\n",
       "    </tr>\n",
       "    <tr>\n",
       "      <th>std</th>\n",
       "      <td>0.433024</td>\n",
       "      <td>12.445137</td>\n",
       "      <td>55830.643871</td>\n",
       "      <td>41.255574</td>\n",
       "      <td>16.669382</td>\n",
       "      <td>0.260469</td>\n",
       "      <td>1.864796</td>\n",
       "      <td>0.500008</td>\n",
       "      <td>9.503481</td>\n",
       "      <td>2.815386</td>\n",
       "      <td>...</td>\n",
       "      <td>15.116893</td>\n",
       "      <td>16.101128</td>\n",
       "      <td>7.959786</td>\n",
       "      <td>11.977558</td>\n",
       "      <td>1.264205</td>\n",
       "      <td>4.642072</td>\n",
       "      <td>4.033065</td>\n",
       "      <td>37.568169</td>\n",
       "      <td>8.787758</td>\n",
       "      <td>4.607063</td>\n",
       "    </tr>\n",
       "    <tr>\n",
       "      <th>min</th>\n",
       "      <td>0.000000</td>\n",
       "      <td>1.000000</td>\n",
       "      <td>5.000000</td>\n",
       "      <td>5.000000</td>\n",
       "      <td>0.000000</td>\n",
       "      <td>0.000000</td>\n",
       "      <td>1.000000</td>\n",
       "      <td>0.000000</td>\n",
       "      <td>0.000000</td>\n",
       "      <td>0.000000</td>\n",
       "      <td>...</td>\n",
       "      <td>0.000000</td>\n",
       "      <td>5.000000</td>\n",
       "      <td>0.000000</td>\n",
       "      <td>0.000000</td>\n",
       "      <td>0.000000</td>\n",
       "      <td>2.000000</td>\n",
       "      <td>4.000000</td>\n",
       "      <td>15.000000</td>\n",
       "      <td>1.360000</td>\n",
       "      <td>0.000000</td>\n",
       "    </tr>\n",
       "    <tr>\n",
       "      <th>25%</th>\n",
       "      <td>0.000000</td>\n",
       "      <td>10.000000</td>\n",
       "      <td>48289.000000</td>\n",
       "      <td>29.000000</td>\n",
       "      <td>47.000000</td>\n",
       "      <td>0.000000</td>\n",
       "      <td>2.000000</td>\n",
       "      <td>0.000000</td>\n",
       "      <td>0.000000</td>\n",
       "      <td>3.000000</td>\n",
       "      <td>...</td>\n",
       "      <td>5.000000</td>\n",
       "      <td>12.000000</td>\n",
       "      <td>3.000000</td>\n",
       "      <td>10.000000</td>\n",
       "      <td>5.000000</td>\n",
       "      <td>11.000000</td>\n",
       "      <td>16.000000</td>\n",
       "      <td>33.000000</td>\n",
       "      <td>8.000000</td>\n",
       "      <td>2.000000</td>\n",
       "    </tr>\n",
       "    <tr>\n",
       "      <th>50%</th>\n",
       "      <td>0.000000</td>\n",
       "      <td>13.000000</td>\n",
       "      <td>96937.000000</td>\n",
       "      <td>65.000000</td>\n",
       "      <td>60.000000</td>\n",
       "      <td>0.000000</td>\n",
       "      <td>4.000000</td>\n",
       "      <td>0.000000</td>\n",
       "      <td>0.000000</td>\n",
       "      <td>5.000000</td>\n",
       "      <td>...</td>\n",
       "      <td>10.000000</td>\n",
       "      <td>16.000000</td>\n",
       "      <td>5.000000</td>\n",
       "      <td>15.000000</td>\n",
       "      <td>6.000000</td>\n",
       "      <td>12.000000</td>\n",
       "      <td>18.000000</td>\n",
       "      <td>65.000000</td>\n",
       "      <td>11.200000</td>\n",
       "      <td>4.000000</td>\n",
       "    </tr>\n",
       "    <tr>\n",
       "      <th>75%</th>\n",
       "      <td>0.250000</td>\n",
       "      <td>20.000000</td>\n",
       "      <td>145429.500000</td>\n",
       "      <td>113.000000</td>\n",
       "      <td>73.000000</td>\n",
       "      <td>0.000000</td>\n",
       "      <td>5.000000</td>\n",
       "      <td>1.000000</td>\n",
       "      <td>3.000000</td>\n",
       "      <td>7.000000</td>\n",
       "      <td>...</td>\n",
       "      <td>15.000000</td>\n",
       "      <td>21.000000</td>\n",
       "      <td>10.000000</td>\n",
       "      <td>20.000000</td>\n",
       "      <td>6.000000</td>\n",
       "      <td>13.000000</td>\n",
       "      <td>20.000000</td>\n",
       "      <td>105.000000</td>\n",
       "      <td>15.000000</td>\n",
       "      <td>8.000000</td>\n",
       "    </tr>\n",
       "    <tr>\n",
       "      <th>max</th>\n",
       "      <td>1.000000</td>\n",
       "      <td>200.000000</td>\n",
       "      <td>191779.000000</td>\n",
       "      <td>137.000000</td>\n",
       "      <td>87.000000</td>\n",
       "      <td>1.000000</td>\n",
       "      <td>7.000000</td>\n",
       "      <td>1.000000</td>\n",
       "      <td>241.000000</td>\n",
       "      <td>9.000000</td>\n",
       "      <td>...</td>\n",
       "      <td>997.000000</td>\n",
       "      <td>1000.000000</td>\n",
       "      <td>450.000000</td>\n",
       "      <td>450.000000</td>\n",
       "      <td>17.000000</td>\n",
       "      <td>64.000000</td>\n",
       "      <td>27.000000</td>\n",
       "      <td>260.000000</td>\n",
       "      <td>450.000000</td>\n",
       "      <td>41.000000</td>\n",
       "    </tr>\n",
       "  </tbody>\n",
       "</table>\n",
       "<p>8 rows × 43 columns</p>\n",
       "</div>"
      ],
      "text/plain": [
       "           TARGET_B     TARGET_D  CONTROL_NUMBER  MONTHS_SINCE_ORIGIN  \\\n",
       "count  19372.000000  4843.000000    19372.000000         19372.000000   \n",
       "mean       0.250000    15.624344    96546.225377            73.409973   \n",
       "std        0.433024    12.445137    55830.643871            41.255574   \n",
       "min        0.000000     1.000000        5.000000             5.000000   \n",
       "25%        0.000000    10.000000    48289.000000            29.000000   \n",
       "50%        0.000000    13.000000    96937.000000            65.000000   \n",
       "75%        0.250000    20.000000   145429.500000           113.000000   \n",
       "max        1.000000   200.000000   191779.000000           137.000000   \n",
       "\n",
       "          DONOR_AGE      IN_HOUSE  INCOME_GROUP  PUBLISHED_PHONE  \\\n",
       "count  14577.000000  19372.000000  14980.000000     19372.000000   \n",
       "mean      58.919051      0.073198      3.907543         0.497729   \n",
       "std       16.669382      0.260469      1.864796         0.500008   \n",
       "min        0.000000      0.000000      1.000000         0.000000   \n",
       "25%       47.000000      0.000000      2.000000         0.000000   \n",
       "50%       60.000000      0.000000      4.000000         0.000000   \n",
       "75%       73.000000      0.000000      5.000000         1.000000   \n",
       "max       87.000000      1.000000      7.000000         1.000000   \n",
       "\n",
       "       MOR_HIT_RATE  WEALTH_RATING  ...  LIFETIME_GIFT_RANGE  \\\n",
       "count  19372.000000   10562.000000  ...         19372.000000   \n",
       "mean       3.361656       5.005397  ...            11.587876   \n",
       "std        9.503481       2.815386  ...            15.116893   \n",
       "min        0.000000       0.000000  ...             0.000000   \n",
       "25%        0.000000       3.000000  ...             5.000000   \n",
       "50%        0.000000       5.000000  ...            10.000000   \n",
       "75%        3.000000       7.000000  ...            15.000000   \n",
       "max      241.000000       9.000000  ...           997.000000   \n",
       "\n",
       "       LIFETIME_MAX_GIFT_AMT  LIFETIME_MIN_GIFT_AMT  LAST_GIFT_AMT  \\\n",
       "count           19372.000000           19372.000000   19372.000000   \n",
       "mean               19.208808               7.620932      16.584199   \n",
       "std                16.101128               7.959786      11.977558   \n",
       "min                 5.000000               0.000000       0.000000   \n",
       "25%                12.000000               3.000000      10.000000   \n",
       "50%                16.000000               5.000000      15.000000   \n",
       "75%                21.000000              10.000000      20.000000   \n",
       "max              1000.000000             450.000000     450.000000   \n",
       "\n",
       "       CARD_PROM_12  NUMBER_PROM_12  MONTHS_SINCE_LAST_GIFT  \\\n",
       "count  19372.000000    19372.000000            19372.000000   \n",
       "mean       5.367128       12.901869               18.191152   \n",
       "std        1.264205        4.642072                4.033065   \n",
       "min        0.000000        2.000000                4.000000   \n",
       "25%        5.000000       11.000000               16.000000   \n",
       "50%        6.000000       12.000000               18.000000   \n",
       "75%        6.000000       13.000000               20.000000   \n",
       "max       17.000000       64.000000               27.000000   \n",
       "\n",
       "       MONTHS_SINCE_FIRST_GIFT  FILE_AVG_GIFT  FILE_CARD_GIFT  \n",
       "count             19372.000000   19372.000000    19372.000000  \n",
       "mean                 69.482088      12.858338        5.273591  \n",
       "std                  37.568169       8.787758        4.607063  \n",
       "min                  15.000000       1.360000        0.000000  \n",
       "25%                  33.000000       8.000000        2.000000  \n",
       "50%                  65.000000      11.200000        4.000000  \n",
       "75%                 105.000000      15.000000        8.000000  \n",
       "max                 260.000000     450.000000       41.000000  \n",
       "\n",
       "[8 rows x 43 columns]"
      ]
     },
     "execution_count": 4,
     "metadata": {},
     "output_type": "execute_result"
    }
   ],
   "source": [
    "rawData.describe()\n",
    "# we get the mean and median of coulmns which can be used to fill missing values."
   ]
  },
  {
   "cell_type": "code",
   "execution_count": 7,
   "metadata": {},
   "outputs": [],
   "source": [
    "#We can see that there are missing fields in \n",
    "# DONOR_AGE, INCOME_GROUP, and WEALTH_RATING\n",
    "#We complete the missing age fields using the median age or 50% value on our \".describe\" function."
   ]
  },
  {
   "cell_type": "code",
   "execution_count": 5,
   "metadata": {},
   "outputs": [
    {
     "data": {
      "text/plain": [
       "TARGET_B                           0\n",
       "TARGET_D                       14529\n",
       "CONTROL_NUMBER                     0\n",
       "MONTHS_SINCE_ORIGIN                0\n",
       "DONOR_AGE                          0\n",
       "IN_HOUSE                           0\n",
       "URBANICITY                         0\n",
       "SES                                0\n",
       "CLUSTER_CODE                       0\n",
       "HOME_OWNER                         0\n",
       "DONOR_GENDER                       0\n",
       "INCOME_GROUP                       0\n",
       "PUBLISHED_PHONE                    0\n",
       "OVERLAY_SOURCE                     0\n",
       "MOR_HIT_RATE                       0\n",
       "WEALTH_RATING                   8810\n",
       "MEDIAN_HOME_VALUE                  0\n",
       "MEDIAN_HOUSEHOLD_INCOME            0\n",
       "PCT_OWNER_OCCUPIED                 0\n",
       "PER_CAPITA_INCOME                  0\n",
       "PCT_ATTRIBUTE1                     0\n",
       "PCT_ATTRIBUTE2                     0\n",
       "PCT_ATTRIBUTE3                     0\n",
       "PCT_ATTRIBUTE4                     0\n",
       "PEP_STAR                           0\n",
       "RECENT_STAR_STATUS                 0\n",
       "RECENCY_STATUS_96NK                0\n",
       "FREQUENCY_STATUS_97NK              0\n",
       "RECENT_RESPONSE_PROP               0\n",
       "RECENT_AVG_GIFT_AMT                0\n",
       "RECENT_CARD_RESPONSE_PROP          0\n",
       "RECENT_AVG_CARD_GIFT_AMT           0\n",
       "RECENT_RESPONSE_COUNT              0\n",
       "RECENT_CARD_RESPONSE_COUNT         0\n",
       "MONTHS_SINCE_LAST_PROM_RESP      246\n",
       "LIFETIME_CARD_PROM                 0\n",
       "LIFETIME_PROM                      0\n",
       "LIFETIME_GIFT_AMOUNT               0\n",
       "LIFETIME_GIFT_COUNT                0\n",
       "LIFETIME_AVG_GIFT_AMT              0\n",
       "LIFETIME_GIFT_RANGE                0\n",
       "LIFETIME_MAX_GIFT_AMT              0\n",
       "LIFETIME_MIN_GIFT_AMT              0\n",
       "LAST_GIFT_AMT                      0\n",
       "CARD_PROM_12                       0\n",
       "NUMBER_PROM_12                     0\n",
       "MONTHS_SINCE_LAST_GIFT             0\n",
       "MONTHS_SINCE_FIRST_GIFT            0\n",
       "FILE_AVG_GIFT                      0\n",
       "FILE_CARD_GIFT                     0\n",
       "dtype: int64"
      ]
     },
     "execution_count": 5,
     "metadata": {},
     "output_type": "execute_result"
    }
   ],
   "source": [
    "rawData.DONOR_AGE.replace(np.nan, 60, inplace =True) # i decided to replace the missing values with the mean\n",
    "\n",
    "rawData.INCOME_GROUP.replace(np.nan, 4, inplace =True) #replacing missing values witht the meadian\n",
    "\n",
    "rawData.isnull().sum() #quick check, DONOR_AGE & INCOME_GROUP now have no missing values!"
   ]
  },
  {
   "cell_type": "code",
   "execution_count": 10,
   "metadata": {},
   "outputs": [
    {
     "data": {
      "text/plain": [
       "<AxesSubplot:>"
      ]
     },
     "execution_count": 10,
     "metadata": {},
     "output_type": "execute_result"
    },
    {
     "data": {
      "image/png": "[encoded data removed]",
      "text/plain": [
       "<Figure size 1296x432 with 1 Axes>"
      ]
     },
     "metadata": {
      "needs_background": "light"
     },
     "output_type": "display_data"
    }
   ],
   "source": [
    "plt.figure(figsize=(18,6))\n",
    "sns.heatmap(rawData.isnull(),yticklabels=False,cbar=False,cmap='viridis')"
   ]
  },
  {
   "cell_type": "code",
   "execution_count": 10,
   "metadata": {},
   "outputs": [],
   "source": [
    "# I could not see all of the columns so I used seaborn het map to see WEALTH_RATING and fill in\n",
    "# the missing values(this isn't actually needed and .isnull().sum() already gives me \n",
    "# information on missing values)"
   ]
  },
  {
   "cell_type": "code",
   "execution_count": 6,
   "metadata": {},
   "outputs": [
    {
     "data": {
      "text/plain": [
       "<AxesSubplot:xlabel='INCOME_GROUP', ylabel='WEALTH_RATING'>"
      ]
     },
     "execution_count": 6,
     "metadata": {},
     "output_type": "execute_result"
    },
    {
     "data": {
      "image/png": "[encoded data removed]",
      "text/plain": [
       "<Figure size 576x360 with 1 Axes>"
      ]
     },
     "metadata": {
      "needs_background": "light"
     },
     "output_type": "display_data"
    }
   ],
   "source": [
    "plt.figure(figsize=(8, 5))\n",
    "sns.boxplot(y='WEALTH_RATING',x='INCOME_GROUP',data=rawData,palette='winter')"
   ]
  },
  {
   "cell_type": "code",
   "execution_count": null,
   "metadata": {},
   "outputs": [],
   "source": [
    "# looks like the higher the income group, the higher the wealth rating\n",
    "# and the lower the income group, the lower the wealth rating"
   ]
  },
  {
   "cell_type": "code",
   "execution_count": null,
   "metadata": {},
   "outputs": [],
   "source": [
    "# attempting to use the values from income groups to fill wealth ratings "
   ]
  },
  {
   "cell_type": "code",
   "execution_count": 7,
   "metadata": {},
   "outputs": [],
   "source": [
    "def inpute_wealthRat(cols):\n",
    "    wealthRat = cols[0]\n",
    "    incomeRat = cols[1]\n",
    "    \n",
    "    if pd.isnull(wealthRat):\n",
    "\n",
    "        if incomeRat == 1:\n",
    "            return 3\n",
    "\n",
    "        elif incomeRat == 2:\n",
    "            return 4\n",
    "        \n",
    "        elif incomeRat == 3:\n",
    "            return 5\n",
    "        \n",
    "        elif incomeRat == 4:\n",
    "            return 5\n",
    "        \n",
    "        elif incomeRat == 5:\n",
    "            return 6\n",
    "        \n",
    "        elif incomeRat == 6:\n",
    "            return 7\n",
    "        \n",
    "        else:\n",
    "            return 8\n",
    "    else:\n",
    "        return wealthRat"
   ]
  },
  {
   "cell_type": "code",
   "execution_count": 8,
   "metadata": {},
   "outputs": [],
   "source": [
    "rawData[\"WEALTH_RATING\"] = rawData[[\"WEALTH_RATING\",\"INCOME_GROUP\"]].apply(inpute_wealthRat,axis=1) \n",
    "# applying the result of the function on the file(found this method on stack overflow)"
   ]
  },
  {
   "cell_type": "code",
   "execution_count": 9,
   "metadata": {},
   "outputs": [
    {
     "data": {
      "text/plain": [
       "0    4.0\n",
       "1    3.0\n",
       "2    9.0\n",
       "3    4.0\n",
       "4    5.0\n",
       "Name: WEALTH_RATING, dtype: float64"
      ]
     },
     "execution_count": 9,
     "metadata": {},
     "output_type": "execute_result"
    }
   ],
   "source": [
    "rawData[\"WEALTH_RATING\"].head() #confirming the function was applied correctly"
   ]
  },
  {
   "cell_type": "code",
   "execution_count": 10,
   "metadata": {},
   "outputs": [],
   "source": [
    "#keeping a copy of the data we have worked on so far\n",
    "rd = rawData.copy()"
   ]
  },
  {
   "cell_type": "code",
   "execution_count": null,
   "metadata": {},
   "outputs": [],
   "source": []
  },
  {
   "cell_type": "code",
   "execution_count": 11,
   "metadata": {},
   "outputs": [
    {
     "data": {
      "text/plain": [
       "TARGET_B                           0\n",
       "TARGET_D                       14529\n",
       "CONTROL_NUMBER                     0\n",
       "MONTHS_SINCE_ORIGIN                0\n",
       "DONOR_AGE                          0\n",
       "IN_HOUSE                           0\n",
       "URBANICITY                         0\n",
       "SES                                0\n",
       "CLUSTER_CODE                       0\n",
       "HOME_OWNER                         0\n",
       "DONOR_GENDER                       0\n",
       "INCOME_GROUP                       0\n",
       "PUBLISHED_PHONE                    0\n",
       "OVERLAY_SOURCE                     0\n",
       "MOR_HIT_RATE                       0\n",
       "WEALTH_RATING                      0\n",
       "MEDIAN_HOME_VALUE                  0\n",
       "MEDIAN_HOUSEHOLD_INCOME            0\n",
       "PCT_OWNER_OCCUPIED                 0\n",
       "PER_CAPITA_INCOME                  0\n",
       "PCT_ATTRIBUTE1                     0\n",
       "PCT_ATTRIBUTE2                     0\n",
       "PCT_ATTRIBUTE3                     0\n",
       "PCT_ATTRIBUTE4                     0\n",
       "PEP_STAR                           0\n",
       "RECENT_STAR_STATUS                 0\n",
       "RECENCY_STATUS_96NK                0\n",
       "FREQUENCY_STATUS_97NK              0\n",
       "RECENT_RESPONSE_PROP               0\n",
       "RECENT_AVG_GIFT_AMT                0\n",
       "RECENT_CARD_RESPONSE_PROP          0\n",
       "RECENT_AVG_CARD_GIFT_AMT           0\n",
       "RECENT_RESPONSE_COUNT              0\n",
       "RECENT_CARD_RESPONSE_COUNT         0\n",
       "MONTHS_SINCE_LAST_PROM_RESP      246\n",
       "LIFETIME_CARD_PROM                 0\n",
       "LIFETIME_PROM                      0\n",
       "LIFETIME_GIFT_AMOUNT               0\n",
       "LIFETIME_GIFT_COUNT                0\n",
       "LIFETIME_AVG_GIFT_AMT              0\n",
       "LIFETIME_GIFT_RANGE                0\n",
       "LIFETIME_MAX_GIFT_AMT              0\n",
       "LIFETIME_MIN_GIFT_AMT              0\n",
       "LAST_GIFT_AMT                      0\n",
       "CARD_PROM_12                       0\n",
       "NUMBER_PROM_12                     0\n",
       "MONTHS_SINCE_LAST_GIFT             0\n",
       "MONTHS_SINCE_FIRST_GIFT            0\n",
       "FILE_AVG_GIFT                      0\n",
       "FILE_CARD_GIFT                     0\n",
       "dtype: int64"
      ]
     },
     "execution_count": 11,
     "metadata": {},
     "output_type": "execute_result"
    }
   ],
   "source": [
    "rd.isnull().sum()"
   ]
  },
  {
   "cell_type": "code",
   "execution_count": null,
   "metadata": {},
   "outputs": [],
   "source": []
  },
  {
   "cell_type": "code",
   "execution_count": null,
   "metadata": {},
   "outputs": [],
   "source": [
    "# next, I delete missing values from MONTHS_SINCE_LAST_PROM_RESP columns.\n",
    "#compare to the rest of the missing values, this seems negligable....I think"
   ]
  },
  {
   "cell_type": "code",
   "execution_count": 12,
   "metadata": {},
   "outputs": [
    {
     "data": {
      "text/plain": [
       "(19372, 50)"
      ]
     },
     "execution_count": 12,
     "metadata": {},
     "output_type": "execute_result"
    }
   ],
   "source": [
    "rd.shape"
   ]
  },
  {
   "cell_type": "code",
   "execution_count": 13,
   "metadata": {},
   "outputs": [
    {
     "data": {
      "text/plain": [
       "(19372, 49)"
      ]
     },
     "execution_count": 13,
     "metadata": {},
     "output_type": "execute_result"
    }
   ],
   "source": [
    "dat= rd.drop([\"TARGET_D\"], axis = 1) #dropping \"TARGET_D\" column\n",
    "dat.shape"
   ]
  },
  {
   "cell_type": "code",
   "execution_count": 14,
   "metadata": {},
   "outputs": [
    {
     "data": {
      "text/plain": [
       "(19126, 49)"
      ]
     },
     "execution_count": 14,
     "metadata": {},
     "output_type": "execute_result"
    }
   ],
   "source": [
    "df=dat.dropna()\n",
    "df.shape\n",
    "#droping rows with null values, data has new variable, \"df\""
   ]
  },
  {
   "cell_type": "code",
   "execution_count": 15,
   "metadata": {},
   "outputs": [],
   "source": [
    " #number of rows have reduced from 19372 to 19126 after droppng row with null values "
   ]
  },
  {
   "cell_type": "code",
   "execution_count": 16,
   "metadata": {},
   "outputs": [
    {
     "data": {
      "text/plain": [
       "TARGET_B                       0\n",
       "CONTROL_NUMBER                 0\n",
       "MONTHS_SINCE_ORIGIN            0\n",
       "DONOR_AGE                      0\n",
       "IN_HOUSE                       0\n",
       "URBANICITY                     0\n",
       "SES                            0\n",
       "CLUSTER_CODE                   0\n",
       "HOME_OWNER                     0\n",
       "DONOR_GENDER                   0\n",
       "INCOME_GROUP                   0\n",
       "PUBLISHED_PHONE                0\n",
       "OVERLAY_SOURCE                 0\n",
       "MOR_HIT_RATE                   0\n",
       "WEALTH_RATING                  0\n",
       "MEDIAN_HOME_VALUE              0\n",
       "MEDIAN_HOUSEHOLD_INCOME        0\n",
       "PCT_OWNER_OCCUPIED             0\n",
       "PER_CAPITA_INCOME              0\n",
       "PCT_ATTRIBUTE1                 0\n",
       "PCT_ATTRIBUTE2                 0\n",
       "PCT_ATTRIBUTE3                 0\n",
       "PCT_ATTRIBUTE4                 0\n",
       "PEP_STAR                       0\n",
       "RECENT_STAR_STATUS             0\n",
       "RECENCY_STATUS_96NK            0\n",
       "FREQUENCY_STATUS_97NK          0\n",
       "RECENT_RESPONSE_PROP           0\n",
       "RECENT_AVG_GIFT_AMT            0\n",
       "RECENT_CARD_RESPONSE_PROP      0\n",
       "RECENT_AVG_CARD_GIFT_AMT       0\n",
       "RECENT_RESPONSE_COUNT          0\n",
       "RECENT_CARD_RESPONSE_COUNT     0\n",
       "MONTHS_SINCE_LAST_PROM_RESP    0\n",
       "LIFETIME_CARD_PROM             0\n",
       "LIFETIME_PROM                  0\n",
       "LIFETIME_GIFT_AMOUNT           0\n",
       "LIFETIME_GIFT_COUNT            0\n",
       "LIFETIME_AVG_GIFT_AMT          0\n",
       "LIFETIME_GIFT_RANGE            0\n",
       "LIFETIME_MAX_GIFT_AMT          0\n",
       "LIFETIME_MIN_GIFT_AMT          0\n",
       "LAST_GIFT_AMT                  0\n",
       "CARD_PROM_12                   0\n",
       "NUMBER_PROM_12                 0\n",
       "MONTHS_SINCE_LAST_GIFT         0\n",
       "MONTHS_SINCE_FIRST_GIFT        0\n",
       "FILE_AVG_GIFT                  0\n",
       "FILE_CARD_GIFT                 0\n",
       "dtype: int64"
      ]
     },
     "execution_count": 16,
     "metadata": {},
     "output_type": "execute_result"
    }
   ],
   "source": [
    "df.isnull().sum() #cheacking of null values have been dropped"
   ]
  },
  {
   "cell_type": "code",
   "execution_count": 17,
   "metadata": {},
   "outputs": [],
   "source": [
    "#looking at the data in excel, the column \"CLUSTER_CODE\" has \".\" as some values.\n",
    "# can not find the median so I replaced the \".\" with 0"
   ]
  },
  {
   "cell_type": "code",
   "execution_count": 18,
   "metadata": {},
   "outputs": [
    {
     "name": "stderr",
     "output_type": "stream",
     "text": [
      "C:\\Users\\anuma\\anaconda3\\lib\\site-packages\\pandas\\core\\series.py:4563: SettingWithCopyWarning: \n",
      "A value is trying to be set on a copy of a slice from a DataFrame\n",
      "\n",
      "See the caveats in the documentation: https://pandas.pydata.org/pandas-docs/stable/user_guide/indexing.html#returning-a-view-versus-a-copy\n",
      "  return super().replace(\n"
     ]
    }
   ],
   "source": [
    "df[\"CLUSTER_CODE\"].replace(' .',0,inplace = True)"
   ]
  },
  {
   "cell_type": "code",
   "execution_count": 19,
   "metadata": {},
   "outputs": [
    {
     "data": {
      "text/plain": [
       "0     0\n",
       "1    45\n",
       "2    11\n",
       "3    04\n",
       "4    49\n",
       "Name: CLUSTER_CODE, dtype: object"
      ]
     },
     "execution_count": 19,
     "metadata": {},
     "output_type": "execute_result"
    }
   ],
   "source": [
    "df[\"CLUSTER_CODE\"].head() #confirming no more \".\" are in the column"
   ]
  },
  {
   "cell_type": "code",
   "execution_count": 20,
   "metadata": {},
   "outputs": [],
   "source": [
    "# we do one hot encode for multiple columns rather than doing this one at a time"
   ]
  },
  {
   "cell_type": "code",
   "execution_count": 21,
   "metadata": {},
   "outputs": [],
   "source": [
    "rdRaw=pd.get_dummies(data=df, columns=['URBANICITY', 'SES','DONOR_GENDER', 'OVERLAY_SOURCE','HOME_OWNER','RECENCY_STATUS_96NK'])\n",
    "\n",
    "#####  rdRaw becomes the new variable as we run a one hot encoding"
   ]
  },
  {
   "cell_type": "code",
   "execution_count": 22,
   "metadata": {},
   "outputs": [
    {
     "data": {
      "text/plain": [
       "(19126, 70)"
      ]
     },
     "execution_count": 22,
     "metadata": {},
     "output_type": "execute_result"
    }
   ],
   "source": [
    "rdRaw.shape #After one hot encoding, we now have 70 columns"
   ]
  },
  {
   "cell_type": "code",
   "execution_count": 23,
   "metadata": {},
   "outputs": [],
   "source": [
    "#keeping a copy of the data we have worked on so far\n",
    "data = rdRaw.copy()"
   ]
  },
  {
   "cell_type": "code",
   "execution_count": 24,
   "metadata": {},
   "outputs": [
    {
     "data": {
      "text/plain": [
       "Index(['TARGET_B', 'CONTROL_NUMBER', 'MONTHS_SINCE_ORIGIN', 'DONOR_AGE',\n",
       "       'IN_HOUSE', 'CLUSTER_CODE', 'INCOME_GROUP', 'PUBLISHED_PHONE',\n",
       "       'MOR_HIT_RATE', 'WEALTH_RATING', 'MEDIAN_HOME_VALUE',\n",
       "       'MEDIAN_HOUSEHOLD_INCOME', 'PCT_OWNER_OCCUPIED', 'PER_CAPITA_INCOME',\n",
       "       'PCT_ATTRIBUTE1', 'PCT_ATTRIBUTE2', 'PCT_ATTRIBUTE3', 'PCT_ATTRIBUTE4',\n",
       "       'PEP_STAR', 'RECENT_STAR_STATUS', 'FREQUENCY_STATUS_97NK',\n",
       "       'RECENT_RESPONSE_PROP', 'RECENT_AVG_GIFT_AMT',\n",
       "       'RECENT_CARD_RESPONSE_PROP', 'RECENT_AVG_CARD_GIFT_AMT',\n",
       "       'RECENT_RESPONSE_COUNT', 'RECENT_CARD_RESPONSE_COUNT',\n",
       "       'MONTHS_SINCE_LAST_PROM_RESP', 'LIFETIME_CARD_PROM', 'LIFETIME_PROM',\n",
       "       'LIFETIME_GIFT_AMOUNT', 'LIFETIME_GIFT_COUNT', 'LIFETIME_AVG_GIFT_AMT',\n",
       "       'LIFETIME_GIFT_RANGE', 'LIFETIME_MAX_GIFT_AMT', 'LIFETIME_MIN_GIFT_AMT',\n",
       "       'LAST_GIFT_AMT', 'CARD_PROM_12', 'NUMBER_PROM_12',\n",
       "       'MONTHS_SINCE_LAST_GIFT', 'MONTHS_SINCE_FIRST_GIFT', 'FILE_AVG_GIFT',\n",
       "       'FILE_CARD_GIFT', 'URBANICITY_?', 'URBANICITY_C', 'URBANICITY_R',\n",
       "       'URBANICITY_S', 'URBANICITY_T', 'URBANICITY_U', 'SES_1', 'SES_2',\n",
       "       'SES_3', 'SES_4', 'SES_?', 'DONOR_GENDER_A', 'DONOR_GENDER_F',\n",
       "       'DONOR_GENDER_M', 'DONOR_GENDER_U', 'OVERLAY_SOURCE_B',\n",
       "       'OVERLAY_SOURCE_M', 'OVERLAY_SOURCE_N', 'OVERLAY_SOURCE_P',\n",
       "       'HOME_OWNER_H', 'HOME_OWNER_U', 'RECENCY_STATUS_96NK_A',\n",
       "       'RECENCY_STATUS_96NK_E', 'RECENCY_STATUS_96NK_F',\n",
       "       'RECENCY_STATUS_96NK_L', 'RECENCY_STATUS_96NK_N',\n",
       "       'RECENCY_STATUS_96NK_S'],\n",
       "      dtype='object')"
      ]
     },
     "execution_count": 24,
     "metadata": {},
     "output_type": "execute_result"
    }
   ],
   "source": [
    "data.columns"
   ]
  },
  {
   "cell_type": "code",
   "execution_count": 25,
   "metadata": {},
   "outputs": [
    {
     "data": {
      "text/plain": [
       "(19126, 70)"
      ]
     },
     "execution_count": 25,
     "metadata": {},
     "output_type": "execute_result"
    }
   ],
   "source": [
    "data.shape"
   ]
  },
  {
   "cell_type": "code",
   "execution_count": 26,
   "metadata": {},
   "outputs": [],
   "source": [
    "# now for the fun part, spliting our data into trainng and test set. I will go for 70-30 split\n",
    "# 30% training set, 70% test set"
   ]
  },
  {
   "cell_type": "code",
   "execution_count": 47,
   "metadata": {},
   "outputs": [
    {
     "data": {
      "text/plain": [
       "RandomForestClassifier()"
      ]
     },
     "execution_count": 47,
     "metadata": {},
     "output_type": "execute_result"
    }
   ],
   "source": [
    "RANDOM_STATE = 200 # seed to recreate results fixes random distributions\n",
    "\n",
    "# Machine Learning Modules from sklearn\n",
    "from sklearn.linear_model import LogisticRegression # LR algorithm - for CLASSIFICATION\n",
    "\n",
    "from sklearn.model_selection import train_test_split, GridSearchCV # modules for splitting our data\n",
    "# and gridsearch for optimizing hyperparameters (scenario analysis) in our iterative ML runs\n",
    "\n",
    "# performance metrics for machine learning\n",
    "from sklearn.metrics import accuracy_score, roc_auc_score, confusion_matrix, precision_score, recall_score, classification_report\n",
    "\n",
    "# for encoding our data and scaling\n",
    "from sklearn.preprocessing import LabelEncoder, OneHotEncoder, StandardScaler\n",
    "\n",
    "# advanced scaling pipeline\n",
    "from sklearn.pipeline import FeatureUnion, make_pipeline\n",
    "from sklearn.tree import DecisionTreeClassifier\n",
    "\n",
    "from sklearn.ensemble import RandomForestClassifier\n",
    "rf = RandomForestClassifier (n_estimators = 100)\n",
    "rf.fit(X_train,y_train.values.ravel())"
   ]
  },
  {
   "cell_type": "code",
   "execution_count": 48,
   "metadata": {
    "scrolled": false
   },
   "outputs": [],
   "source": [
    "# a) define X (features) and y (target)\n",
    "X = data.loc[:, data.columns != \"TARGET_B\"]\n",
    "y = data[\"TARGET_B\"]\n",
    "X_train, X_test, y_train, y_test = train_test_split(X, y, test_size=0.3, random_state=RANDOM_STATE)"
   ]
  },
  {
   "cell_type": "code",
   "execution_count": 31,
   "metadata": {},
   "outputs": [
    {
     "name": "stderr",
     "output_type": "stream",
     "text": [
      "C:\\Users\\anuma\\anaconda3\\lib\\site-packages\\sklearn\\linear_model\\_logistic.py:762: ConvergenceWarning: lbfgs failed to converge (status=1):\n",
      "STOP: TOTAL NO. of ITERATIONS REACHED LIMIT.\n",
      "\n",
      "Increase the number of iterations (max_iter) or scale the data as shown in:\n",
      "    https://scikit-learn.org/stable/modules/preprocessing.html\n",
      "Please also refer to the documentation for alternative solver options:\n",
      "    https://scikit-learn.org/stable/modules/linear_model.html#logistic-regression\n",
      "  n_iter_i = _check_optimize_result(\n"
     ]
    }
   ],
   "source": [
    "estimator = LogisticRegression(random_state=RANDOM_STATE)  # STEP 1 set up a machine learning algorithm\n",
    "\n",
    "estimator.fit(X_train,y_train)# STEP 2 fit the model on the TRAINING set\n",
    "\n",
    "y_true = y_test # additional step to change variable name change i.e. ground truth\n",
    "\n",
    "y_pred = estimator.predict(X_test)  # STEP 3: predict using the TEST set FEATURES\n",
    "\n",
    "# STEP 4: (optional) extract classificiation probabilities in order \n",
    "# to construct a ROC curve (later)\n",
    "y_score = estimator.predict_proba(X_test)[:,0]"
   ]
  },
  {
   "cell_type": "code",
   "execution_count": 49,
   "metadata": {},
   "outputs": [
    {
     "data": {
      "text/plain": [
       "0.7460787730916696"
      ]
     },
     "execution_count": 49,
     "metadata": {},
     "output_type": "execute_result"
    }
   ],
   "source": [
    "accuracy_score(y_true, y_pred)"
   ]
  },
  {
   "cell_type": "code",
   "execution_count": 50,
   "metadata": {},
   "outputs": [
    {
     "data": {
      "text/plain": [
       "array([[4275,   10],\n",
       "       [1447,    6]], dtype=int64)"
      ]
     },
     "execution_count": 50,
     "metadata": {},
     "output_type": "execute_result"
    }
   ],
   "source": [
    "confusion_matrix(y_true,y_pred)"
   ]
  },
  {
   "cell_type": "code",
   "execution_count": 51,
   "metadata": {
    "scrolled": true
   },
   "outputs": [
    {
     "data": {
      "text/plain": [
       "0.375"
      ]
     },
     "execution_count": 51,
     "metadata": {},
     "output_type": "execute_result"
    }
   ],
   "source": [
    "precision_score(y_true,y_pred)"
   ]
  },
  {
   "cell_type": "code",
   "execution_count": null,
   "metadata": {},
   "outputs": [],
   "source": [
    "# while 74% accuracy may not be perfect and the precision score makes me want to cry, \n",
    "# and pull my non exixtet hairs, \n",
    "# i cant think of any other way to improve this at the moment so I sadly move on"
   ]
  },
  {
   "cell_type": "code",
   "execution_count": null,
   "metadata": {},
   "outputs": [],
   "source": [
    "#next read the prospectie donor file, \n",
    "#and use the model created to get an outcome for the client. Fingers crossed!!"
   ]
  },
  {
   "cell_type": "code",
   "execution_count": 35,
   "metadata": {},
   "outputs": [
    {
     "data": {
      "text/html": [
       "<div>\n",
       "<style scoped>\n",
       "    .dataframe tbody tr th:only-of-type {\n",
       "        vertical-align: middle;\n",
       "    }\n",
       "\n",
       "    .dataframe tbody tr th {\n",
       "        vertical-align: top;\n",
       "    }\n",
       "\n",
       "    .dataframe thead th {\n",
       "        text-align: right;\n",
       "    }\n",
       "</style>\n",
       "<table border=\"1\" class=\"dataframe\">\n",
       "  <thead>\n",
       "    <tr style=\"text-align: right;\">\n",
       "      <th></th>\n",
       "      <th>CONTROL_NUMBER</th>\n",
       "      <th>MONTHS_SINCE_ORIGIN</th>\n",
       "      <th>DONOR_AGE</th>\n",
       "      <th>IN_HOUSE</th>\n",
       "      <th>URBANICITY</th>\n",
       "      <th>SES</th>\n",
       "      <th>CLUSTER_CODE</th>\n",
       "      <th>HOME_OWNER</th>\n",
       "      <th>DONOR_GENDER</th>\n",
       "      <th>INCOME_GROUP</th>\n",
       "      <th>...</th>\n",
       "      <th>LIFETIME_GIFT_RANGE</th>\n",
       "      <th>LIFETIME_MAX_GIFT_AMT</th>\n",
       "      <th>LIFETIME_MIN_GIFT_AMT</th>\n",
       "      <th>LAST_GIFT_AMT</th>\n",
       "      <th>CARD_PROM_12</th>\n",
       "      <th>NUMBER_PROM_12</th>\n",
       "      <th>MONTHS_SINCE_LAST_GIFT</th>\n",
       "      <th>MONTHS_SINCE_FIRST_GIFT</th>\n",
       "      <th>FILE_AVG_GIFT</th>\n",
       "      <th>FILE_CARD_GIFT</th>\n",
       "    </tr>\n",
       "  </thead>\n",
       "  <tbody>\n",
       "    <tr>\n",
       "      <th>0</th>\n",
       "      <td>139</td>\n",
       "      <td>101</td>\n",
       "      <td>NaN</td>\n",
       "      <td>0</td>\n",
       "      <td>R</td>\n",
       "      <td>2</td>\n",
       "      <td>46</td>\n",
       "      <td>U</td>\n",
       "      <td>F</td>\n",
       "      <td>NaN</td>\n",
       "      <td>...</td>\n",
       "      <td>16.0</td>\n",
       "      <td>21.0</td>\n",
       "      <td>5.0</td>\n",
       "      <td>21.0</td>\n",
       "      <td>4</td>\n",
       "      <td>10</td>\n",
       "      <td>26</td>\n",
       "      <td>90</td>\n",
       "      <td>14.71</td>\n",
       "      <td>2</td>\n",
       "    </tr>\n",
       "    <tr>\n",
       "      <th>1</th>\n",
       "      <td>142</td>\n",
       "      <td>137</td>\n",
       "      <td>NaN</td>\n",
       "      <td>0</td>\n",
       "      <td>R</td>\n",
       "      <td>2</td>\n",
       "      <td>43</td>\n",
       "      <td>U</td>\n",
       "      <td>F</td>\n",
       "      <td>NaN</td>\n",
       "      <td>...</td>\n",
       "      <td>9.0</td>\n",
       "      <td>11.0</td>\n",
       "      <td>2.0</td>\n",
       "      <td>10.0</td>\n",
       "      <td>9</td>\n",
       "      <td>22</td>\n",
       "      <td>22</td>\n",
       "      <td>129</td>\n",
       "      <td>6.00</td>\n",
       "      <td>14</td>\n",
       "    </tr>\n",
       "    <tr>\n",
       "      <th>2</th>\n",
       "      <td>282</td>\n",
       "      <td>17</td>\n",
       "      <td>30.0</td>\n",
       "      <td>0</td>\n",
       "      <td>T</td>\n",
       "      <td>1</td>\n",
       "      <td>35</td>\n",
       "      <td>H</td>\n",
       "      <td>M</td>\n",
       "      <td>6.0</td>\n",
       "      <td>...</td>\n",
       "      <td>15.0</td>\n",
       "      <td>20.0</td>\n",
       "      <td>5.0</td>\n",
       "      <td>20.0</td>\n",
       "      <td>5</td>\n",
       "      <td>14</td>\n",
       "      <td>20</td>\n",
       "      <td>87</td>\n",
       "      <td>8.44</td>\n",
       "      <td>1</td>\n",
       "    </tr>\n",
       "    <tr>\n",
       "      <th>3</th>\n",
       "      <td>368</td>\n",
       "      <td>137</td>\n",
       "      <td>75.0</td>\n",
       "      <td>0</td>\n",
       "      <td>U</td>\n",
       "      <td>1</td>\n",
       "      <td>02</td>\n",
       "      <td>H</td>\n",
       "      <td>M</td>\n",
       "      <td>6.0</td>\n",
       "      <td>...</td>\n",
       "      <td>5.0</td>\n",
       "      <td>10.0</td>\n",
       "      <td>5.0</td>\n",
       "      <td>10.0</td>\n",
       "      <td>10</td>\n",
       "      <td>24</td>\n",
       "      <td>19</td>\n",
       "      <td>129</td>\n",
       "      <td>6.50</td>\n",
       "      <td>22</td>\n",
       "    </tr>\n",
       "    <tr>\n",
       "      <th>4</th>\n",
       "      <td>387</td>\n",
       "      <td>5</td>\n",
       "      <td>NaN</td>\n",
       "      <td>0</td>\n",
       "      <td>T</td>\n",
       "      <td>2</td>\n",
       "      <td>40</td>\n",
       "      <td>U</td>\n",
       "      <td>F</td>\n",
       "      <td>2.0</td>\n",
       "      <td>...</td>\n",
       "      <td>7.0</td>\n",
       "      <td>10.0</td>\n",
       "      <td>3.0</td>\n",
       "      <td>5.0</td>\n",
       "      <td>5</td>\n",
       "      <td>12</td>\n",
       "      <td>18</td>\n",
       "      <td>85</td>\n",
       "      <td>5.83</td>\n",
       "      <td>2</td>\n",
       "    </tr>\n",
       "  </tbody>\n",
       "</table>\n",
       "<p>5 rows × 48 columns</p>\n",
       "</div>"
      ],
      "text/plain": [
       "   CONTROL_NUMBER  MONTHS_SINCE_ORIGIN  DONOR_AGE  IN_HOUSE URBANICITY SES  \\\n",
       "0             139                  101        NaN         0          R   2   \n",
       "1             142                  137        NaN         0          R   2   \n",
       "2             282                   17       30.0         0          T   1   \n",
       "3             368                  137       75.0         0          U   1   \n",
       "4             387                    5        NaN         0          T   2   \n",
       "\n",
       "  CLUSTER_CODE HOME_OWNER DONOR_GENDER  INCOME_GROUP  ...  \\\n",
       "0           46          U            F           NaN  ...   \n",
       "1           43          U            F           NaN  ...   \n",
       "2           35          H            M           6.0  ...   \n",
       "3           02          H            M           6.0  ...   \n",
       "4           40          U            F           2.0  ...   \n",
       "\n",
       "   LIFETIME_GIFT_RANGE LIFETIME_MAX_GIFT_AMT  LIFETIME_MIN_GIFT_AMT  \\\n",
       "0                 16.0                  21.0                    5.0   \n",
       "1                  9.0                  11.0                    2.0   \n",
       "2                 15.0                  20.0                    5.0   \n",
       "3                  5.0                  10.0                    5.0   \n",
       "4                  7.0                  10.0                    3.0   \n",
       "\n",
       "   LAST_GIFT_AMT  CARD_PROM_12  NUMBER_PROM_12  MONTHS_SINCE_LAST_GIFT  \\\n",
       "0           21.0             4              10                      26   \n",
       "1           10.0             9              22                      22   \n",
       "2           20.0             5              14                      20   \n",
       "3           10.0            10              24                      19   \n",
       "4            5.0             5              12                      18   \n",
       "\n",
       "   MONTHS_SINCE_FIRST_GIFT  FILE_AVG_GIFT  FILE_CARD_GIFT  \n",
       "0                       90          14.71               2  \n",
       "1                      129           6.00              14  \n",
       "2                       87           8.44               1  \n",
       "3                      129           6.50              22  \n",
       "4                       85           5.83               2  \n",
       "\n",
       "[5 rows x 48 columns]"
      ]
     },
     "execution_count": 35,
     "metadata": {},
     "output_type": "execute_result"
    }
   ],
   "source": [
    "prosData.head()"
   ]
  },
  {
   "cell_type": "code",
   "execution_count": 36,
   "metadata": {},
   "outputs": [
    {
     "data": {
      "text/plain": [
       "CONTROL_NUMBER                    0\n",
       "MONTHS_SINCE_ORIGIN               0\n",
       "DONOR_AGE                       529\n",
       "IN_HOUSE                          0\n",
       "URBANICITY                        0\n",
       "SES                               0\n",
       "CLUSTER_CODE                      0\n",
       "HOME_OWNER                        0\n",
       "DONOR_GENDER                      0\n",
       "INCOME_GROUP                    481\n",
       "PUBLISHED_PHONE                   0\n",
       "OVERLAY_SOURCE                    0\n",
       "MOR_HIT_RATE                      0\n",
       "WEALTH_RATING                  1006\n",
       "MEDIAN_HOME_VALUE                 0\n",
       "MEDIAN_HOUSEHOLD_INCOME           0\n",
       "PCT_OWNER_OCCUPIED                0\n",
       "PER_CAPITA_INCOME                 0\n",
       "PCT_ATTRIBUTE1                    0\n",
       "PCT_ATTRIBUTE2                    0\n",
       "PCT_ATTRIBUTE3                    0\n",
       "PCT_ATTRIBUTE4                    0\n",
       "PEP_STAR                          0\n",
       "RECENT_STAR_STATUS                0\n",
       "RECENCY_STATUS_96NK               0\n",
       "FREQUENCY_STATUS_97NK             0\n",
       "RECENT_RESPONSE_PROP              0\n",
       "RECENT_AVG_GIFT_AMT               0\n",
       "RECENT_CARD_RESPONSE_PROP         0\n",
       "RECENT_AVG_CARD_GIFT_AMT          0\n",
       "RECENT_RESPONSE_COUNT             0\n",
       "RECENT_CARD_RESPONSE_COUNT        0\n",
       "MONTHS_SINCE_LAST_PROM_RESP      26\n",
       "LIFETIME_CARD_PROM                0\n",
       "LIFETIME_PROM                     0\n",
       "LIFETIME_GIFT_AMOUNT              0\n",
       "LIFETIME_GIFT_COUNT               0\n",
       "LIFETIME_AVG_GIFT_AMT             0\n",
       "LIFETIME_GIFT_RANGE               0\n",
       "LIFETIME_MAX_GIFT_AMT             0\n",
       "LIFETIME_MIN_GIFT_AMT             0\n",
       "LAST_GIFT_AMT                     0\n",
       "CARD_PROM_12                      0\n",
       "NUMBER_PROM_12                    0\n",
       "MONTHS_SINCE_LAST_GIFT            0\n",
       "MONTHS_SINCE_FIRST_GIFT           0\n",
       "FILE_AVG_GIFT                     0\n",
       "FILE_CARD_GIFT                    0\n",
       "dtype: int64"
      ]
     },
     "execution_count": 36,
     "metadata": {},
     "output_type": "execute_result"
    }
   ],
   "source": [
    "prosData.isnull().sum()"
   ]
  },
  {
   "cell_type": "code",
   "execution_count": null,
   "metadata": {},
   "outputs": [],
   "source": [
    "#As with the precious file, we complete missing fields of\n",
    "# Donor_Age, Income_Group, Wealth_Rating,Months_Since_Last_Prom_Response"
   ]
  },
  {
   "cell_type": "code",
   "execution_count": 37,
   "metadata": {},
   "outputs": [
    {
     "data": {
      "text/html": [
       "<div>\n",
       "<style scoped>\n",
       "    .dataframe tbody tr th:only-of-type {\n",
       "        vertical-align: middle;\n",
       "    }\n",
       "\n",
       "    .dataframe tbody tr th {\n",
       "        vertical-align: top;\n",
       "    }\n",
       "\n",
       "    .dataframe thead th {\n",
       "        text-align: right;\n",
       "    }\n",
       "</style>\n",
       "<table border=\"1\" class=\"dataframe\">\n",
       "  <thead>\n",
       "    <tr style=\"text-align: right;\">\n",
       "      <th></th>\n",
       "      <th>CONTROL_NUMBER</th>\n",
       "      <th>MONTHS_SINCE_ORIGIN</th>\n",
       "      <th>DONOR_AGE</th>\n",
       "      <th>IN_HOUSE</th>\n",
       "      <th>INCOME_GROUP</th>\n",
       "      <th>PUBLISHED_PHONE</th>\n",
       "      <th>MOR_HIT_RATE</th>\n",
       "      <th>WEALTH_RATING</th>\n",
       "      <th>MEDIAN_HOME_VALUE</th>\n",
       "      <th>MEDIAN_HOUSEHOLD_INCOME</th>\n",
       "      <th>...</th>\n",
       "      <th>LIFETIME_GIFT_RANGE</th>\n",
       "      <th>LIFETIME_MAX_GIFT_AMT</th>\n",
       "      <th>LIFETIME_MIN_GIFT_AMT</th>\n",
       "      <th>LAST_GIFT_AMT</th>\n",
       "      <th>CARD_PROM_12</th>\n",
       "      <th>NUMBER_PROM_12</th>\n",
       "      <th>MONTHS_SINCE_LAST_GIFT</th>\n",
       "      <th>MONTHS_SINCE_FIRST_GIFT</th>\n",
       "      <th>FILE_AVG_GIFT</th>\n",
       "      <th>FILE_CARD_GIFT</th>\n",
       "    </tr>\n",
       "  </thead>\n",
       "  <tbody>\n",
       "    <tr>\n",
       "      <th>count</th>\n",
       "      <td>2148.000000</td>\n",
       "      <td>2148.000000</td>\n",
       "      <td>1619.000000</td>\n",
       "      <td>2148.000000</td>\n",
       "      <td>1667.000000</td>\n",
       "      <td>2148.000000</td>\n",
       "      <td>2148.000000</td>\n",
       "      <td>1142.000000</td>\n",
       "      <td>2148.000000</td>\n",
       "      <td>2148.000000</td>\n",
       "      <td>...</td>\n",
       "      <td>2148.000000</td>\n",
       "      <td>2148.000000</td>\n",
       "      <td>2148.000000</td>\n",
       "      <td>2148.000000</td>\n",
       "      <td>2148.000000</td>\n",
       "      <td>2148.000000</td>\n",
       "      <td>2148.000000</td>\n",
       "      <td>2148.000000</td>\n",
       "      <td>2148.000000</td>\n",
       "      <td>2148.000000</td>\n",
       "    </tr>\n",
       "    <tr>\n",
       "      <th>mean</th>\n",
       "      <td>96146.865456</td>\n",
       "      <td>73.631285</td>\n",
       "      <td>58.185917</td>\n",
       "      <td>0.067970</td>\n",
       "      <td>3.902819</td>\n",
       "      <td>0.493017</td>\n",
       "      <td>3.357076</td>\n",
       "      <td>4.974606</td>\n",
       "      <td>1028.019088</td>\n",
       "      <td>339.798417</td>\n",
       "      <td>...</td>\n",
       "      <td>10.972472</td>\n",
       "      <td>18.595196</td>\n",
       "      <td>7.622723</td>\n",
       "      <td>16.309828</td>\n",
       "      <td>5.331471</td>\n",
       "      <td>12.702514</td>\n",
       "      <td>18.378492</td>\n",
       "      <td>69.681564</td>\n",
       "      <td>12.649097</td>\n",
       "      <td>5.248603</td>\n",
       "    </tr>\n",
       "    <tr>\n",
       "      <th>std</th>\n",
       "      <td>54518.044553</td>\n",
       "      <td>41.969403</td>\n",
       "      <td>16.765323</td>\n",
       "      <td>0.251753</td>\n",
       "      <td>1.840627</td>\n",
       "      <td>0.500068</td>\n",
       "      <td>8.585609</td>\n",
       "      <td>2.809815</td>\n",
       "      <td>895.363300</td>\n",
       "      <td>149.754159</td>\n",
       "      <td>...</td>\n",
       "      <td>10.053029</td>\n",
       "      <td>10.874603</td>\n",
       "      <td>7.135016</td>\n",
       "      <td>10.367477</td>\n",
       "      <td>1.251732</td>\n",
       "      <td>4.441983</td>\n",
       "      <td>3.960876</td>\n",
       "      <td>38.325088</td>\n",
       "      <td>7.386101</td>\n",
       "      <td>4.717410</td>\n",
       "    </tr>\n",
       "    <tr>\n",
       "      <th>min</th>\n",
       "      <td>139.000000</td>\n",
       "      <td>5.000000</td>\n",
       "      <td>4.000000</td>\n",
       "      <td>0.000000</td>\n",
       "      <td>1.000000</td>\n",
       "      <td>0.000000</td>\n",
       "      <td>0.000000</td>\n",
       "      <td>0.000000</td>\n",
       "      <td>0.000000</td>\n",
       "      <td>0.000000</td>\n",
       "      <td>...</td>\n",
       "      <td>0.000000</td>\n",
       "      <td>5.000000</td>\n",
       "      <td>0.000000</td>\n",
       "      <td>0.000000</td>\n",
       "      <td>1.000000</td>\n",
       "      <td>3.000000</td>\n",
       "      <td>4.000000</td>\n",
       "      <td>15.000000</td>\n",
       "      <td>1.360000</td>\n",
       "      <td>0.000000</td>\n",
       "    </tr>\n",
       "    <tr>\n",
       "      <th>25%</th>\n",
       "      <td>51402.000000</td>\n",
       "      <td>29.000000</td>\n",
       "      <td>46.000000</td>\n",
       "      <td>0.000000</td>\n",
       "      <td>2.000000</td>\n",
       "      <td>0.000000</td>\n",
       "      <td>0.000000</td>\n",
       "      <td>3.000000</td>\n",
       "      <td>508.750000</td>\n",
       "      <td>239.000000</td>\n",
       "      <td>...</td>\n",
       "      <td>5.000000</td>\n",
       "      <td>13.000000</td>\n",
       "      <td>3.000000</td>\n",
       "      <td>10.000000</td>\n",
       "      <td>5.000000</td>\n",
       "      <td>11.000000</td>\n",
       "      <td>16.000000</td>\n",
       "      <td>33.000000</td>\n",
       "      <td>8.130000</td>\n",
       "      <td>2.000000</td>\n",
       "    </tr>\n",
       "    <tr>\n",
       "      <th>50%</th>\n",
       "      <td>96092.000000</td>\n",
       "      <td>65.000000</td>\n",
       "      <td>59.000000</td>\n",
       "      <td>0.000000</td>\n",
       "      <td>4.000000</td>\n",
       "      <td>0.000000</td>\n",
       "      <td>0.000000</td>\n",
       "      <td>5.000000</td>\n",
       "      <td>738.500000</td>\n",
       "      <td>314.000000</td>\n",
       "      <td>...</td>\n",
       "      <td>10.000000</td>\n",
       "      <td>16.000000</td>\n",
       "      <td>5.000000</td>\n",
       "      <td>15.000000</td>\n",
       "      <td>6.000000</td>\n",
       "      <td>12.000000</td>\n",
       "      <td>18.000000</td>\n",
       "      <td>65.000000</td>\n",
       "      <td>11.290000</td>\n",
       "      <td>4.000000</td>\n",
       "    </tr>\n",
       "    <tr>\n",
       "      <th>75%</th>\n",
       "      <td>143196.000000</td>\n",
       "      <td>113.000000</td>\n",
       "      <td>71.000000</td>\n",
       "      <td>0.000000</td>\n",
       "      <td>5.000000</td>\n",
       "      <td>1.000000</td>\n",
       "      <td>3.000000</td>\n",
       "      <td>7.000000</td>\n",
       "      <td>1159.500000</td>\n",
       "      <td>415.000000</td>\n",
       "      <td>...</td>\n",
       "      <td>15.000000</td>\n",
       "      <td>20.000000</td>\n",
       "      <td>10.000000</td>\n",
       "      <td>20.000000</td>\n",
       "      <td>6.000000</td>\n",
       "      <td>13.000000</td>\n",
       "      <td>21.000000</td>\n",
       "      <td>105.000000</td>\n",
       "      <td>15.000000</td>\n",
       "      <td>8.000000</td>\n",
       "    </tr>\n",
       "    <tr>\n",
       "      <th>max</th>\n",
       "      <td>191710.000000</td>\n",
       "      <td>137.000000</td>\n",
       "      <td>87.000000</td>\n",
       "      <td>1.000000</td>\n",
       "      <td>7.000000</td>\n",
       "      <td>1.000000</td>\n",
       "      <td>240.000000</td>\n",
       "      <td>9.000000</td>\n",
       "      <td>5982.000000</td>\n",
       "      <td>1500.000000</td>\n",
       "      <td>...</td>\n",
       "      <td>145.000000</td>\n",
       "      <td>150.000000</td>\n",
       "      <td>100.000000</td>\n",
       "      <td>150.000000</td>\n",
       "      <td>13.000000</td>\n",
       "      <td>47.000000</td>\n",
       "      <td>27.000000</td>\n",
       "      <td>187.000000</td>\n",
       "      <td>100.000000</td>\n",
       "      <td>32.000000</td>\n",
       "    </tr>\n",
       "  </tbody>\n",
       "</table>\n",
       "<p>8 rows × 41 columns</p>\n",
       "</div>"
      ],
      "text/plain": [
       "       CONTROL_NUMBER  MONTHS_SINCE_ORIGIN    DONOR_AGE     IN_HOUSE  \\\n",
       "count     2148.000000          2148.000000  1619.000000  2148.000000   \n",
       "mean     96146.865456            73.631285    58.185917     0.067970   \n",
       "std      54518.044553            41.969403    16.765323     0.251753   \n",
       "min        139.000000             5.000000     4.000000     0.000000   \n",
       "25%      51402.000000            29.000000    46.000000     0.000000   \n",
       "50%      96092.000000            65.000000    59.000000     0.000000   \n",
       "75%     143196.000000           113.000000    71.000000     0.000000   \n",
       "max     191710.000000           137.000000    87.000000     1.000000   \n",
       "\n",
       "       INCOME_GROUP  PUBLISHED_PHONE  MOR_HIT_RATE  WEALTH_RATING  \\\n",
       "count   1667.000000      2148.000000   2148.000000    1142.000000   \n",
       "mean       3.902819         0.493017      3.357076       4.974606   \n",
       "std        1.840627         0.500068      8.585609       2.809815   \n",
       "min        1.000000         0.000000      0.000000       0.000000   \n",
       "25%        2.000000         0.000000      0.000000       3.000000   \n",
       "50%        4.000000         0.000000      0.000000       5.000000   \n",
       "75%        5.000000         1.000000      3.000000       7.000000   \n",
       "max        7.000000         1.000000    240.000000       9.000000   \n",
       "\n",
       "       MEDIAN_HOME_VALUE  MEDIAN_HOUSEHOLD_INCOME  ...  LIFETIME_GIFT_RANGE  \\\n",
       "count        2148.000000              2148.000000  ...          2148.000000   \n",
       "mean         1028.019088               339.798417  ...            10.972472   \n",
       "std           895.363300               149.754159  ...            10.053029   \n",
       "min             0.000000                 0.000000  ...             0.000000   \n",
       "25%           508.750000               239.000000  ...             5.000000   \n",
       "50%           738.500000               314.000000  ...            10.000000   \n",
       "75%          1159.500000               415.000000  ...            15.000000   \n",
       "max          5982.000000              1500.000000  ...           145.000000   \n",
       "\n",
       "       LIFETIME_MAX_GIFT_AMT  LIFETIME_MIN_GIFT_AMT  LAST_GIFT_AMT  \\\n",
       "count            2148.000000            2148.000000    2148.000000   \n",
       "mean               18.595196               7.622723      16.309828   \n",
       "std                10.874603               7.135016      10.367477   \n",
       "min                 5.000000               0.000000       0.000000   \n",
       "25%                13.000000               3.000000      10.000000   \n",
       "50%                16.000000               5.000000      15.000000   \n",
       "75%                20.000000              10.000000      20.000000   \n",
       "max               150.000000             100.000000     150.000000   \n",
       "\n",
       "       CARD_PROM_12  NUMBER_PROM_12  MONTHS_SINCE_LAST_GIFT  \\\n",
       "count   2148.000000     2148.000000             2148.000000   \n",
       "mean       5.331471       12.702514               18.378492   \n",
       "std        1.251732        4.441983                3.960876   \n",
       "min        1.000000        3.000000                4.000000   \n",
       "25%        5.000000       11.000000               16.000000   \n",
       "50%        6.000000       12.000000               18.000000   \n",
       "75%        6.000000       13.000000               21.000000   \n",
       "max       13.000000       47.000000               27.000000   \n",
       "\n",
       "       MONTHS_SINCE_FIRST_GIFT  FILE_AVG_GIFT  FILE_CARD_GIFT  \n",
       "count              2148.000000    2148.000000     2148.000000  \n",
       "mean                 69.681564      12.649097        5.248603  \n",
       "std                  38.325088       7.386101        4.717410  \n",
       "min                  15.000000       1.360000        0.000000  \n",
       "25%                  33.000000       8.130000        2.000000  \n",
       "50%                  65.000000      11.290000        4.000000  \n",
       "75%                 105.000000      15.000000        8.000000  \n",
       "max                 187.000000     100.000000       32.000000  \n",
       "\n",
       "[8 rows x 41 columns]"
      ]
     },
     "execution_count": 37,
     "metadata": {},
     "output_type": "execute_result"
    }
   ],
   "source": [
    "prosData.describe()"
   ]
  },
  {
   "cell_type": "code",
   "execution_count": 38,
   "metadata": {},
   "outputs": [
    {
     "data": {
      "text/plain": [
       "(2148, 48)"
      ]
     },
     "execution_count": 38,
     "metadata": {},
     "output_type": "execute_result"
    }
   ],
   "source": [
    "prosData.shape"
   ]
  },
  {
   "cell_type": "code",
   "execution_count": 39,
   "metadata": {},
   "outputs": [],
   "source": [
    "prosData.INCOME_GROUP.replace(np.nan, 4, inplace =True)\n",
    "prosData.WEALTH_RATING.replace(np.nan, 5, inplace =True) # using the median this time not the function used earlier\n",
    "prosData.DONOR_AGE.replace(np.nan, 59, inplace =True)  #replaced missing values with the mean"
   ]
  },
  {
   "cell_type": "code",
   "execution_count": 40,
   "metadata": {},
   "outputs": [],
   "source": [
    "prosData['CLUSTER_CODE'].replace(' .',0,inplace = True)"
   ]
  },
  {
   "cell_type": "code",
   "execution_count": 41,
   "metadata": {},
   "outputs": [
    {
     "data": {
      "text/plain": [
       "(2122, 48)"
      ]
     },
     "execution_count": 41,
     "metadata": {},
     "output_type": "execute_result"
    }
   ],
   "source": [
    "pdd=prosData.dropna() #dropping null values\n",
    "pdd.shape"
   ]
  },
  {
   "cell_type": "code",
   "execution_count": 42,
   "metadata": {},
   "outputs": [],
   "source": [
    "nd=pd.get_dummies(data=pdd, columns=['URBANICITY', 'SES','DONOR_GENDER', 'OVERLAY_SOURCE','HOME_OWNER','RECENCY_STATUS_96NK'])\n",
    "\n",
    "#####  nd becomes the new variable as we run a one hot encoding"
   ]
  },
  {
   "cell_type": "code",
   "execution_count": 43,
   "metadata": {},
   "outputs": [
    {
     "data": {
      "text/plain": [
       "(2122, 48)"
      ]
     },
     "execution_count": 43,
     "metadata": {},
     "output_type": "execute_result"
    }
   ],
   "source": [
    "pdd.shape # new columns added for one hot encoding"
   ]
  },
  {
   "cell_type": "code",
   "execution_count": 44,
   "metadata": {},
   "outputs": [
    {
     "data": {
      "text/plain": [
       "CONTROL_NUMBER                 0\n",
       "MONTHS_SINCE_ORIGIN            0\n",
       "DONOR_AGE                      0\n",
       "IN_HOUSE                       0\n",
       "URBANICITY                     0\n",
       "SES                            0\n",
       "CLUSTER_CODE                   0\n",
       "HOME_OWNER                     0\n",
       "DONOR_GENDER                   0\n",
       "INCOME_GROUP                   0\n",
       "PUBLISHED_PHONE                0\n",
       "OVERLAY_SOURCE                 0\n",
       "MOR_HIT_RATE                   0\n",
       "WEALTH_RATING                  0\n",
       "MEDIAN_HOME_VALUE              0\n",
       "MEDIAN_HOUSEHOLD_INCOME        0\n",
       "PCT_OWNER_OCCUPIED             0\n",
       "PER_CAPITA_INCOME              0\n",
       "PCT_ATTRIBUTE1                 0\n",
       "PCT_ATTRIBUTE2                 0\n",
       "PCT_ATTRIBUTE3                 0\n",
       "PCT_ATTRIBUTE4                 0\n",
       "PEP_STAR                       0\n",
       "RECENT_STAR_STATUS             0\n",
       "RECENCY_STATUS_96NK            0\n",
       "FREQUENCY_STATUS_97NK          0\n",
       "RECENT_RESPONSE_PROP           0\n",
       "RECENT_AVG_GIFT_AMT            0\n",
       "RECENT_CARD_RESPONSE_PROP      0\n",
       "RECENT_AVG_CARD_GIFT_AMT       0\n",
       "RECENT_RESPONSE_COUNT          0\n",
       "RECENT_CARD_RESPONSE_COUNT     0\n",
       "MONTHS_SINCE_LAST_PROM_RESP    0\n",
       "LIFETIME_CARD_PROM             0\n",
       "LIFETIME_PROM                  0\n",
       "LIFETIME_GIFT_AMOUNT           0\n",
       "LIFETIME_GIFT_COUNT            0\n",
       "LIFETIME_AVG_GIFT_AMT          0\n",
       "LIFETIME_GIFT_RANGE            0\n",
       "LIFETIME_MAX_GIFT_AMT          0\n",
       "LIFETIME_MIN_GIFT_AMT          0\n",
       "LAST_GIFT_AMT                  0\n",
       "CARD_PROM_12                   0\n",
       "NUMBER_PROM_12                 0\n",
       "MONTHS_SINCE_LAST_GIFT         0\n",
       "MONTHS_SINCE_FIRST_GIFT        0\n",
       "FILE_AVG_GIFT                  0\n",
       "FILE_CARD_GIFT                 0\n",
       "dtype: int64"
      ]
     },
     "execution_count": 44,
     "metadata": {},
     "output_type": "execute_result"
    }
   ],
   "source": [
    "pdd.isna().sum()"
   ]
  },
  {
   "cell_type": "code",
   "execution_count": 45,
   "metadata": {},
   "outputs": [],
   "source": [
    "# now to predict the outcome for the new data"
   ]
  },
  {
   "cell_type": "code",
   "execution_count": 52,
   "metadata": {},
   "outputs": [
    {
     "name": "stderr",
     "output_type": "stream",
     "text": [
      "<ipython-input-52-6a4797adb104>:3: SettingWithCopyWarning: \n",
      "A value is trying to be set on a copy of a slice from a DataFrame.\n",
      "Try using .loc[row_indexer,col_indexer] = value instead\n",
      "\n",
      "See the caveats in the documentation: https://pandas.pydata.org/pandas-docs/stable/user_guide/indexing.html#returning-a-view-versus-a-copy\n",
      "  prospective_donnors['prediction']= prediction\n"
     ]
    }
   ],
   "source": [
    "prediction = pd.Series(rf.predict(X))\n",
    "prospective_donnors = pdd[['CONTROL_NUMBER']]\n",
    "prospective_donnors['prediction']= prediction"
   ]
  },
  {
   "cell_type": "code",
   "execution_count": 53,
   "metadata": {},
   "outputs": [
    {
     "data": {
      "text/plain": [
       "0        0\n",
       "1        1\n",
       "2        0\n",
       "3        0\n",
       "4        0\n",
       "        ..\n",
       "19121    0\n",
       "19122    0\n",
       "19123    0\n",
       "19124    0\n",
       "19125    1\n",
       "Length: 19126, dtype: int64"
      ]
     },
     "execution_count": 53,
     "metadata": {},
     "output_type": "execute_result"
    }
   ],
   "source": [
    "prediction  # getting list of prospective donors and those likely not to donate"
   ]
  },
  {
   "cell_type": "code",
   "execution_count": 54,
   "metadata": {},
   "outputs": [],
   "source": [
    "accuracy = rf.score(X, y)"
   ]
  },
  {
   "cell_type": "code",
   "execution_count": 55,
   "metadata": {},
   "outputs": [
    {
     "data": {
      "text/plain": [
       "0.9245529645508731"
      ]
     },
     "execution_count": 55,
     "metadata": {},
     "output_type": "execute_result"
    }
   ],
   "source": [
    "accuracy"
   ]
  },
  {
   "cell_type": "code",
   "execution_count": null,
   "metadata": {},
   "outputs": [],
   "source": [
    "# test sample gave a 74% accuracy and the prospective data gave 92%"
   ]
  },
  {
   "cell_type": "code",
   "execution_count": null,
   "metadata": {},
   "outputs": [],
   "source": []
  }
 ],
 "metadata": {
  "kernelspec": {
   "display_name": "Python 3 (ipykernel)",
   "language": "python",
   "name": "python3"
  },
  "language_info": {
   "codemirror_mode": {
    "name": "ipython",
    "version": 3
   },
   "file_extension": ".py",
   "mimetype": "text/x-python",
   "name": "python",
   "nbconvert_exporter": "python",
   "pygments_lexer": "ipython3",
   "version": "3.8.8"
  }
 },
 "nbformat": 4,
 "nbformat_minor": 4
}
